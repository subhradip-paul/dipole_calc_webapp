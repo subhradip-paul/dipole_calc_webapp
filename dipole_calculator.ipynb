{
 "cells": [
  {
   "cell_type": "code",
   "execution_count": 18,
   "metadata": {},
   "outputs": [],
   "source": [
    "import pandas as pd\n",
    "import numpy as np\n",
    "from ipywidgets import interact\n",
    "import ipywidgets as widgets"
   ]
  },
  {
   "cell_type": "code",
   "execution_count": 3,
   "metadata": {},
   "outputs": [],
   "source": [
    "nuctable=pd.read_csv('NMR_freq_table.csv')\n",
    "gyr_ratio_MHz_T=nuctable[\"GyrHz\"]\n",
    "name_nuc=nuctable[\"Name\"]"
   ]
  },
  {
   "cell_type": "code",
   "execution_count": 24,
   "metadata": {},
   "outputs": [],
   "source": [
    "def dipole_coupling(choice_nuc1,choice_nuc2, distance):\n",
    "    pl = 6.62607015e-34\n",
    "    nuc1idx = name_nuc[name_nuc.str.match(choice_nuc1)].index\n",
    "    nuc2idx = name_nuc[name_nuc.str.match(choice_nuc2)].index\n",
    "\n",
    "    gyr1=gyr_ratio_MHz_T[nuc1idx[0]]*1e6\n",
    "    gyr2=gyr_ratio_MHz_T[nuc2idx[0]]*1e6\n",
    "\n",
    "    dip=-1e-7*(gyr1*gyr2*pl)/((distance*1e-10) ** 3);\n",
    "    print(\"The dipolar coupling = \" + str(np.abs(np.round(dip,2))) + ' Hz')\n",
    "    print(\"The dipolar coupling = \" + str(np.abs(np.round(dip/1e3,2))) + ' kHz')\n"
   ]
  },
  {
   "cell_type": "code",
   "execution_count": null,
   "metadata": {},
   "outputs": [],
   "source": [
    "if __name__ == \"__main__\":    \n",
    "    interact(dipole_coupling, choice_nuc1 = widgets.Dropdown(options = nuctable.Name.values.tolist(),description='Nucleus 1',value='1H',disabled=False), \n",
    "         choice_nuc2 = widgets.Dropdown(options = nuctable.Name.values.tolist(),description='Nucleus 2',value='13C',disabled=False), \n",
    "         distance=widgets.FloatText(value=1.09, description='Dist in Angstrom: ', disabled=False))"
   ]
  }
 ],
 "metadata": {
  "kernelspec": {
   "display_name": "Python 3",
   "language": "python",
   "name": "python3"
  },
  "language_info": {
   "codemirror_mode": {
    "name": "ipython",
    "version": 3
   },
   "file_extension": ".py",
   "mimetype": "text/x-python",
   "name": "python",
   "nbconvert_exporter": "python",
   "pygments_lexer": "ipython3",
   "version": "3.11.2"
  },
  "orig_nbformat": 4
 },
 "nbformat": 4,
 "nbformat_minor": 2
}
