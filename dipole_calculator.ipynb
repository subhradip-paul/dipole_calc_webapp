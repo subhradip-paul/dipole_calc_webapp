{
 "cells": [
  {
   "cell_type": "code",
   "execution_count": 22,
   "metadata": {},
   "outputs": [],
   "source": [
    "import pandas as pd\n",
    "import numpy as np\n",
    "import ipywidgets as widgets"
   ]
  },
  {
   "cell_type": "code",
   "execution_count": 14,
   "metadata": {},
   "outputs": [],
   "source": [
    "nuctable=pd.read_csv('NMR_freq_table.csv')\n",
    "gyr_ratio_MHz_T=nuctable[\"GyrHz\"]\n",
    "name_nuc=nuctable[\"Name\"]"
   ]
  },
  {
   "cell_type": "code",
   "execution_count": 26,
   "metadata": {},
   "outputs": [
    {
     "data": {
      "application/vnd.jupyter.widget-view+json": {
       "model_id": "3b6329d803684297b4045ccff83178b8",
       "version_major": 2,
       "version_minor": 0
      },
      "text/plain": [
       "Dropdown(description='Nucleus 1', index=2, options=('1e', '1n', '1H', '2D', '3T', '3He', '6Li', '7Li', '9Be', …"
      ]
     },
     "execution_count": 26,
     "metadata": {},
     "output_type": "execute_result"
    }
   ],
   "source": [
    "choice_nuc1 = widgets.Dropdown(\n",
    "    options = nuctable.Name.values.tolist(),\n",
    "    description='Nucleus 1',\n",
    "    value='1H',\n",
    "    disabled=False,\n",
    ")\n",
    "choice_nuc1"
   ]
  },
  {
   "cell_type": "code",
   "execution_count": 25,
   "metadata": {},
   "outputs": [
    {
     "data": {
      "application/vnd.jupyter.widget-view+json": {
       "model_id": "6ed5c56e603f49a193be181c4244d838",
       "version_major": 2,
       "version_minor": 0
      },
      "text/plain": [
       "Dropdown(description='Nucleus 2', index=11, options=('1e', '1n', '1H', '2D', '3T', '3He', '6Li', '7Li', '9Be',…"
      ]
     },
     "execution_count": 25,
     "metadata": {},
     "output_type": "execute_result"
    }
   ],
   "source": [
    "choice_nuc2 = widgets.Dropdown(\n",
    "    options = nuctable.Name.values.tolist(),\n",
    "    description='Nucleus 2',\n",
    "    value='13C',\n",
    "    disabled=False,\n",
    ")\n",
    "choice_nuc2"
   ]
  },
  {
   "cell_type": "code",
   "execution_count": 34,
   "metadata": {},
   "outputs": [
    {
     "data": {
      "application/vnd.jupyter.widget-view+json": {
       "model_id": "6f0f876789cf40acbad10b7d58c78f27",
       "version_major": 2,
       "version_minor": 0
      },
      "text/plain": [
       "FloatText(value=1.094, description='Distance in A: ')"
      ]
     },
     "execution_count": 34,
     "metadata": {},
     "output_type": "execute_result"
    }
   ],
   "source": [
    "distance = widgets.FloatText(\n",
    "    value=1.094,\n",
    "    description='Distance in A: ',\n",
    "    disabled=False\n",
    ")\n",
    "distance"
   ]
  },
  {
   "cell_type": "code",
   "execution_count": 35,
   "metadata": {},
   "outputs": [
    {
     "name": "stdout",
     "output_type": "stream",
     "text": [
      "The dipolar coupling = 5247.605768445042 Hz\n",
      "The dipolar coupling = 5.247605768445042 kHz\n"
     ]
    }
   ],
   "source": [
    "pl = 6.62607015e-34\n",
    "nuc1idx = name_nuc[name_nuc.str.match(choice_nuc1.label)].index\n",
    "nuc2idx = name_nuc[name_nuc.str.match(choice_nuc2.label)].index\n",
    "\n",
    "gyr1=gyr_ratio_MHz_T[nuc1idx[0]]*1e6\n",
    "gyr2=gyr_ratio_MHz_T[nuc2idx[0]]*1e6\n",
    "\n",
    "dip=-1e-7*(gyr1*gyr2*pl)/((distance.value*1e-10) ** 3);\n",
    "print(\"The dipolar coupling = \" + str(np.abs(dip)) + ' Hz')\n",
    "print(\"The dipolar coupling = \" + str(np.abs(dip/1e3)) + ' kHz')"
   ]
  }
 ],
 "metadata": {
  "kernelspec": {
   "display_name": "Python 3",
   "language": "python",
   "name": "python3"
  },
  "language_info": {
   "codemirror_mode": {
    "name": "ipython",
    "version": 3
   },
   "file_extension": ".py",
   "mimetype": "text/x-python",
   "name": "python",
   "nbconvert_exporter": "python",
   "pygments_lexer": "ipython3",
   "version": "3.11.2"
  },
  "orig_nbformat": 4
 },
 "nbformat": 4,
 "nbformat_minor": 2
}
